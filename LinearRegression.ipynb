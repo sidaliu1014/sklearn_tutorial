{
 "cells": [
  {
   "cell_type": "code",
   "execution_count": 6,
   "metadata": {},
   "outputs": [],
   "source": [
    "from sklearn.linear_model import LinearRegression\n",
    "from sklearn.model_selection import train_test_split\n",
    "from sklearn.model_selection import cross_val_score\n",
    "from sklearn.datasets import fetch_california_housing as fch\n",
    "import pandas as pd\n"
   ]
  },
  {
   "cell_type": "code",
   "execution_count": 7,
   "metadata": {},
   "outputs": [],
   "source": [
    "housevalue = fch ()"
   ]
  },
  {
   "cell_type": "code",
   "execution_count": 57,
   "metadata": {},
   "outputs": [],
   "source": [
    "x=pd.DataFrame(housevalue.data,columns=housevalue.feature_names)\n",
    "y=pd.DataFrame(housevalue.target,columns=housevalue.target_names)\n",
    "housevalue_df= pd.concat([x,y],axis=1)"
   ]
  },
  {
   "cell_type": "code",
   "execution_count": 121,
   "metadata": {},
   "outputs": [
    {
     "data": {
      "text/plain": [
       "[('MedInc', 0.42635589084954706),\n",
       " ('HouseAge', 0.00891863569853775),\n",
       " ('AveRooms', -0.09611467694165059),\n",
       " ('AveBedrms', 0.5858528833653095),\n",
       " ('Population', -4.011961108560289e-06),\n",
       " ('AveOccup', -0.0032256161238957484),\n",
       " ('Latitude', -0.43276137477205995),\n",
       " ('Longitude', -0.4459587488601602)]"
      ]
     },
     "execution_count": 121,
     "metadata": {},
     "output_type": "execute_result"
    }
   ],
   "source": [
    "x_train,x_test,y_train,y_test = train_test_split(x,y,test_size=0.3)\n",
    "for i in [x_train,x_test]:\n",
    "    i.index = range(i.shape[0])\n",
    "clf = LinearRegression(normalize= True)# normalize x \n",
    "clf.fit(x_train,y_train)\n",
    "yhat = clf.predict(x_test)\n",
    "[*zip(x_train.columns,coef)]"
   ]
  },
  {
   "cell_type": "code",
   "execution_count": 137,
   "metadata": {},
   "outputs": [
    {
     "data": {
      "text/plain": [
       "array([0.5351668 , 0.52910504, 0.67851477, 0.47485745, 0.65197842,\n",
       "       0.50092187, 0.39629861, 0.64006268, 0.60286176, 0.435447  ])"
      ]
     },
     "execution_count": 137,
     "metadata": {},
     "output_type": "execute_result"
    }
   ],
   "source": [
    "#linear regression metrics\n",
    "\"\"\"\n",
    "MSE: mean squared error\n",
    "\n",
    "- from sklearn.metrics import mean_squared_error\n",
    "- from sklearn.model_selection import cross_val_score(scoring=\"mean_squared_error\")\n",
    "\n",
    "r2 : \n",
    "- from sklearn.metrics import r2_score\n",
    "- linearregression.score(x,y)\n",
    "- from sklearn.model_selection import cross_val_score(scoring=\"r2\")\n",
    "\"\"\"\n",
    "from sklearn.metrics import mean_squared_error as MSE\n",
    "from sklearn.metrics import r2_score\n",
    "# be aware of sequence\n",
    "r2_score(y_test,yhat)\n",
    "cross_val_score(clf,x,y,cv=10,scoring = \"neg_mean_absolute_error\")*(-1)\n",
    "#MSE(yhat,y_test)\n",
    "#y_test.mean()"
   ]
  },
  {
   "cell_type": "code",
   "execution_count": 138,
   "metadata": {},
   "outputs": [],
   "source": [
    "import matplotlib.pyplot as plt"
   ]
  },
  {
   "cell_type": "code",
   "execution_count": 132,
   "metadata": {},
   "outputs": [
    {
     "data": {
      "image/png": "[encoded data removed]",
      "text/plain": [
       "<Figure size 432x288 with 1 Axes>"
      ]
     },
     "metadata": {
      "needs_background": "light"
     },
     "output_type": "display_data"
    }
   ],
   "source": [
    "plt.plot(range(len(y_test)),sorted(y_test.values),c=\"black\",label= \"y_test\")\n",
    "plt.plot(range(len(yhat)),sorted(yhat),c=\"red\",label=\"yhat\")\n",
    "plt.legend()\n",
    "plt.show()"
   ]
  },
  {
   "cell_type": "code",
   "execution_count": 136,
   "metadata": {},
   "outputs": [],
   "source": [
    "# r2 may be smaller than zero, meaning (yhat -y_test) is greater than (y_mean- y_test).\n",
    "# not good fit as y_mean is better than yhat. check your preprocessing"
   ]
  },
  {
   "cell_type": "code",
   "execution_count": 140,
   "metadata": {},
   "outputs": [],
   "source": [
    "# linear regression limitations:https://blog.csdn.net/Noob_daniel/article/details/76087829\n",
    "# difference between  ols and gradient descent : https://blog.csdn.net/GhostintheCode/article/details/84977703\n",
    "# multicollinearity\n"
   ]
  },
  {
   "cell_type": "code",
   "execution_count": null,
   "metadata": {},
   "outputs": [],
   "source": []
  }
 ],
 "metadata": {
  "kernelspec": {
   "display_name": "Python 3",
   "language": "python",
   "name": "python3"
  },
  "language_info": {
   "codemirror_mode": {
    "name": "ipython",
    "version": 3
   },
   "file_extension": ".py",
   "mimetype": "text/x-python",
   "name": "python",
   "nbconvert_exporter": "python",
   "pygments_lexer": "ipython3",
   "version": "3.8.2"
  }
 },
 "nbformat": 4,
 "nbformat_minor": 4
}
